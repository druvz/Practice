{
  "nbformat": 4,
  "nbformat_minor": 0,
  "metadata": {
    "colab": {
      "name": "markov chain.ipynb",
      "provenance": [],
      "collapsed_sections": [],
      "authorship_tag": "ABX9TyOgyR8mhZU/UgEOHJqvMlTo",
      "include_colab_link": true
    },
    "kernelspec": {
      "name": "python3",
      "display_name": "Python 3"
    },
    "language_info": {
      "name": "python"
    }
  },
  "cells": [
    {
      "cell_type": "markdown",
      "metadata": {
        "id": "view-in-github",
        "colab_type": "text"
      },
      "source": [
        "<a href=\"https://colab.research.google.com/github/druvz/Practice/blob/master/markov_chain.ipynb\" target=\"_parent\"><img src=\"https://colab.research.google.com/assets/colab-badge.svg\" alt=\"Open In Colab\"/></a>"
      ]
    },
    {
      "cell_type": "markdown",
      "metadata": {
        "id": "t2vjk104k8Yl"
      },
      "source": [
        "Create Markov chain"
      ]
    },
    {
      "cell_type": "code",
      "metadata": {
        "id": "QFXEFCQcW18v"
      },
      "source": [
        "import numpy as np\n",
        "import random as rm"
      ],
      "execution_count": 1,
      "outputs": []
    },
    {
      "cell_type": "code",
      "metadata": {
        "id": "1AbeJ5jkaoIJ"
      },
      "source": [
        "# The statespace\n",
        "states = [\"Sleep\",\"Icecream\",\"Run\"]\n",
        "\n",
        "# Possible sequences of events\n",
        "transitionName = [[\"SS\",\"SR\",\"SI\"],[\"RS\",\"RR\",\"RI\"],[\"IS\",\"IR\",\"II\"]]\n",
        "\n",
        "# Probabilities matrix (transition matrix)\n",
        "transitionMatrix = [[0.2,0.6,0.2],[0.1,0.6,0.3],[0.2,0.7,0.1]]"
      ],
      "execution_count": 2,
      "outputs": []
    },
    {
      "cell_type": "code",
      "metadata": {
        "colab": {
          "base_uri": "https://localhost:8080/"
        },
        "id": "h2ldM249araB",
        "outputId": "1715264e-7488-4a58-aa9d-a82464b562bf"
      },
      "source": [
        "if sum(transitionMatrix[0])+sum(transitionMatrix[1])+sum(transitionMatrix[1]) != 3:\n",
        "    print(\"Somewhere, something went wrong. Transition matrix, perhaps?\")\n",
        "else: print(\"All is gonna be okay, you should move on!! ;)\")"
      ],
      "execution_count": 3,
      "outputs": [
        {
          "output_type": "stream",
          "name": "stdout",
          "text": [
            "All is gonna be okay, you should move on!! ;)\n"
          ]
        }
      ]
    },
    {
      "cell_type": "code",
      "metadata": {
        "colab": {
          "base_uri": "https://localhost:8080/"
        },
        "id": "dEWRBHT-avli",
        "outputId": "fcb2271a-b65d-4b20-9acb-60e61906c0b7"
      },
      "source": [
        "# A function that implements the Markov model to forecast the state/mood.\n",
        "def activity_forecast(days):\n",
        "    # Choose the starting state\n",
        "    activityToday = \"Sleep\"\n",
        "    print(\"Start state: \" + activityToday)\n",
        "    # Shall store the sequence of states taken. So, this only has the starting state for now.\n",
        "    activityList = [activityToday]\n",
        "    i = 0\n",
        "    # To calculate the probability of the activityList\n",
        "    prob = 1\n",
        "    while i != days:\n",
        "        if activityToday == \"Sleep\":\n",
        "            change = np.random.choice(transitionName[0],replace=True,p=transitionMatrix[0])\n",
        "            if change == \"SS\":\n",
        "                prob = prob * 0.2\n",
        "                activityList.append(\"Sleep\")\n",
        "                pass\n",
        "            elif change == \"SR\":\n",
        "                prob = prob * 0.6\n",
        "                activityToday = \"Run\"\n",
        "                activityList.append(\"Run\")\n",
        "            else:\n",
        "                prob = prob * 0.2\n",
        "                activityToday = \"Icecream\"\n",
        "                activityList.append(\"Icecream\")\n",
        "        elif activityToday == \"Run\":\n",
        "            change = np.random.choice(transitionName[1],replace=True,p=transitionMatrix[1])\n",
        "            if change == \"RR\":\n",
        "                prob = prob * 0.5\n",
        "                activityList.append(\"Run\")\n",
        "                pass\n",
        "            elif change == \"RS\":\n",
        "                prob = prob * 0.2\n",
        "                activityToday = \"Sleep\"\n",
        "                activityList.append(\"Sleep\")\n",
        "            else:\n",
        "                prob = prob * 0.3\n",
        "                activityToday = \"Icecream\"\n",
        "                activityList.append(\"Icecream\")\n",
        "        elif activityToday == \"Icecream\":\n",
        "            change = np.random.choice(transitionName[2],replace=True,p=transitionMatrix[2])\n",
        "            if change == \"II\":\n",
        "                prob = prob * 0.1\n",
        "                activityList.append(\"Icecream\")\n",
        "                pass\n",
        "            elif change == \"IS\":\n",
        "                prob = prob * 0.2\n",
        "                activityToday = \"Sleep\"\n",
        "                activityList.append(\"Sleep\")\n",
        "            else:\n",
        "                prob = prob * 0.7\n",
        "                activityToday = \"Run\"\n",
        "                activityList.append(\"Run\")\n",
        "        i += 1  \n",
        "    print(\"Possible states: \" + str(activityList))\n",
        "    print(\"End state after \"+ str(days) + \" days: \" + activityToday)\n",
        "    print(\"Probability of the possible sequence of states: \" + str(prob))\n",
        "\n",
        "# Function that forecasts the possible state for the next 2 days\n",
        "activity_forecast(2)"
      ],
      "execution_count": 4,
      "outputs": [
        {
          "output_type": "stream",
          "name": "stdout",
          "text": [
            "Start state: Sleep\n",
            "Possible states: ['Sleep', 'Sleep', 'Run']\n",
            "End state after 2 days: Run\n",
            "Probability of the possible sequence of states: 0.12\n"
          ]
        }
      ]
    },
    {
      "cell_type": "markdown",
      "metadata": {
        "id": "V_xnHbFxbK-i"
      },
      "source": [
        "You get a random set of transitions possible along with the probability of it happening, starting from state: Sleep. Extend the program further to maybe iterate it for a couple of hundred times with the same starting state, you can then see the expected probability of ending at any particular state along with its probability. Let's rewrite the function activity_forecast and add a fresh set of loops to do this..."
      ]
    },
    {
      "cell_type": "code",
      "metadata": {
        "colab": {
          "base_uri": "https://localhost:8080/"
        },
        "id": "eoRYO7Yea25Y",
        "outputId": "b310995f-3445-4d1b-ff61-3e848af96f50"
      },
      "source": [
        "def activity_forecast(days):\n",
        "    # Choose the starting state\n",
        "    activityToday = \"Sleep\"\n",
        "    activityList = [activityToday]\n",
        "    i = 0\n",
        "    prob = 1\n",
        "    while i != days:\n",
        "        if activityToday == \"Sleep\":\n",
        "            change = np.random.choice(transitionName[0],replace=True,p=transitionMatrix[0])\n",
        "            if change == \"SS\":\n",
        "                prob = prob * 0.2\n",
        "                activityList.append(\"Sleep\")\n",
        "                pass\n",
        "            elif change == \"SR\":\n",
        "                prob = prob * 0.6\n",
        "                activityToday = \"Run\"\n",
        "                activityList.append(\"Run\")\n",
        "            else:\n",
        "                prob = prob * 0.2\n",
        "                activityToday = \"Icecream\"\n",
        "                activityList.append(\"Icecream\")\n",
        "        elif activityToday == \"Run\":\n",
        "            change = np.random.choice(transitionName[1],replace=True,p=transitionMatrix[1])\n",
        "            if change == \"RR\":\n",
        "                prob = prob * 0.5\n",
        "                activityList.append(\"Run\")\n",
        "                pass\n",
        "            elif change == \"RS\":\n",
        "                prob = prob * 0.2\n",
        "                activityToday = \"Sleep\"\n",
        "                activityList.append(\"Sleep\")\n",
        "            else:\n",
        "                prob = prob * 0.3\n",
        "                activityToday = \"Icecream\"\n",
        "                activityList.append(\"Icecream\")\n",
        "        elif activityToday == \"Icecream\":\n",
        "            change = np.random.choice(transitionName[2],replace=True,p=transitionMatrix[2])\n",
        "            if change == \"II\":\n",
        "                prob = prob * 0.1\n",
        "                activityList.append(\"Icecream\")\n",
        "                pass\n",
        "            elif change == \"IS\":\n",
        "                prob = prob * 0.2\n",
        "                activityToday = \"Sleep\"\n",
        "                activityList.append(\"Sleep\")\n",
        "            else:\n",
        "                prob = prob * 0.7\n",
        "                activityToday = \"Run\"\n",
        "                activityList.append(\"Run\")\n",
        "        i += 1    \n",
        "    return activityList\n",
        "\n",
        "# To save every activityList\n",
        "list_activity = []\n",
        "count = 0\n",
        "\n",
        "# `Range` starts from the first count up until but excluding the last count\n",
        "for iterations in range(1,10000):\n",
        "        list_activity.append(activity_forecast(2))\n",
        "\n",
        "# Check out all the `activityList` we collected    \n",
        "#print(list_activity)\n",
        "\n",
        "# Iterate through the list to get a count of all activities ending in state:'Run'\n",
        "for smaller_list in list_activity:\n",
        "    if(smaller_list[2] == \"Run\"):\n",
        "        count += 1\n",
        "\n",
        "# Calculate the probability of starting from state:'Sleep' and ending at state:'Run'\n",
        "percentage = (count/10000) * 100\n",
        "print(\"The probability of starting at state:'Sleep' and ending at state:'Run'= \" + str(percentage) + \"%\")"
      ],
      "execution_count": 5,
      "outputs": [
        {
          "output_type": "stream",
          "name": "stdout",
          "text": [
            "The probability of starting at state:'Sleep' and ending at state:'Run'= 62.46000000000001%\n"
          ]
        }
      ]
    },
    {
      "cell_type": "markdown",
      "metadata": {
        "id": "pP6wW3fKbJ9e"
      },
      "source": [
        "Alternate Approach for markov chain"
      ]
    },
    {
      "cell_type": "code",
      "metadata": {
        "colab": {
          "base_uri": "https://localhost:8080/",
          "height": 279
        },
        "id": "p8JVWlERb1dr",
        "outputId": "b06dda72-9a72-41d5-9bc8-8872b2904493"
      },
      "source": [
        "import numpy as np\n",
        "from matplotlib import pyplot\n",
        "\n",
        "P = np.matrix(\n",
        "    [\n",
        "        [1.0, 0.0, 0.0, 0.0, 0.0, 0.0],\n",
        "        [1.0 / 4, 1.0 / 2, 0.0, 1.0 / 4, 0.0, 0.0],\n",
        "        [0.0, 0.0, 0.0, 1.0, 0.0, 0.0],\n",
        "        [1.0 / 16, 1.0 / 4, 1.0 / 8, 1.0 / 4, 1.0 / 4, 1.0 / 16],\n",
        "        [0.0, 0.0, 0.0, 1.0 / 4, 1.0 / 2, 1.0 / 4],\n",
        "        [0.0, 0.0, 0.0, 0.0, 0.0, 1.0],\n",
        "    ]\n",
        ")\n",
        "\n",
        "v = np.matrix([[0, 0, 1, 0, 0, 0]])\n",
        "\n",
        "# Get the data\n",
        "plot_data = []\n",
        "for step in range(20):\n",
        "    result = v * P ** step\n",
        "    plot_data.append(np.array(result).flatten())\n",
        "\n",
        "# Convert the data format\n",
        "plot_data = np.array(plot_data)\n",
        "\n",
        "# Create the plot\n",
        "pyplot.figure(1)\n",
        "pyplot.xlabel(\"Steps\")\n",
        "pyplot.ylabel(\"Probability\")\n",
        "lines = []\n",
        "for i, shape in zip(range(6), [\"x\", \"h\", \"H\", \"s\", \"8\", \"r+\"]):\n",
        "    (line,) = pyplot.plot(plot_data[:, i], shape, label=\"S%i\" % (i + 1))\n",
        "    lines.append(line)\n",
        "pyplot.legend(handles=lines, loc=1)\n",
        "pyplot.show()"
      ],
      "execution_count": 6,
      "outputs": [
        {
          "output_type": "display_data",
          "data": {
            "image/png": "[encoded data removed]",
            "text/plain": [
              "<Figure size 432x288 with 1 Axes>"
            ]
          },
          "metadata": {
            "needs_background": "light"
          }
        }
      ]
    },
    {
      "cell_type": "code",
      "metadata": {
        "colab": {
          "base_uri": "https://localhost:8080/",
          "height": 130
        },
        "id": "VaxcCF12b_Y7",
        "outputId": "f18d2225-8a11-498a-85e8-866ec16fdee0"
      },
      "source": [
        "$ pip search markov\n",
        "PyMarkovChain             - Simple markov chain implementation\n",
        "autocomplete              - tiny 'autocomplete' tool using a \"hidden markov model\"\n",
        "cobe                      - Markov chain based text generator library and chatbot\n",
        "twitter_markov            - Create markov chain (\"_ebooks\") accounts on Twitter\n",
        "markovgen                 - Another text generator based on Markov chains.\n",
        "pyEMMA                    - EMMA: Emma's Markov Model Algorithms\n",
        "pymc                      - Markov Chain Monte Carlo sampling toolkit.\n",
        "hmmus                     - Posterior decoding with a hidden Markov model\n",
        "marbl-python              - A Python implementation of the Marbl specification for normalized representations of Markov blankets in Bayesian networks.\n",
        "pymdptoolbox              - Markov Decision Process (MDP) Toolbox\n",
        "gibi                      - Generate random words based on Markov chains\n",
        "markovgenerator           - Markov text generator\n",
        "pythonic-porin            - Nanopore Data Analysis package. Provides tools for reading data,        performing event detection, segmentation, visualization, and\n",
        "                            analysis using        hidden Markov models, and other tools. Designed for the UCSC Nanopore Group.\n",
        "PyMarkovTextGenerator     - Random text generator base on Markov chains.\n",
        "MCREPOGEN                 - Markov Chain Repository Generator\n",
        "vokram                    - A toy Markov chain implementation.\n",
        "MarkovEquClasses          - Algorithms for exploring Markov equivalence classes: MCMC, size counting\n",
        "hmmlearn                  - Hidden Markov Models in Python with scikit-learn like API\n",
        "twarkov                   - Markov generator built for generating Tweets from timelines\n",
        "MCL_Markov_Cluster        - Markov Cluster algorithm implementation\n",
        "pyborg                    - Markov chain bot for irc which generates replies to messages\n",
        "pydodo                    - Markov chain generator\n",
        "mwordgen                  - MWordGen is a Markov statistics based word generator.\n",
        "Markov                    - Python library for Hidden Markov Models\n",
        "markovify                 - Use Markov chains to generate random semi-plausible sentences based on an existing text.\n",
        "treehmm                   - Variational Inference for tree-structured Hidden-Markov Models\n",
        "PyMarkov                  - Markov Chains made easy"
      ],
      "execution_count": 9,
      "outputs": [
        {
          "output_type": "error",
          "ename": "SyntaxError",
          "evalue": "ignored",
          "traceback": [
            "\u001b[0;36m  File \u001b[0;32m\"<ipython-input-9-fedf7b9c489c>\"\u001b[0;36m, line \u001b[0;32m1\u001b[0m\n\u001b[0;31m    $ pip search markov\u001b[0m\n\u001b[0m    ^\u001b[0m\n\u001b[0;31mSyntaxError\u001b[0m\u001b[0;31m:\u001b[0m invalid syntax\n"
          ]
        }
      ]
    },
    {
      "cell_type": "markdown",
      "metadata": {
        "id": "Maf7CBzve4wu"
      },
      "source": [
        "Quantecon"
      ]
    },
    {
      "cell_type": "code",
      "metadata": {
        "colab": {
          "base_uri": "https://localhost:8080/"
        },
        "id": "OwgqayLCe8aq",
        "outputId": "d2ff11f1-890b-4596-dd7d-91e7f28d9e50"
      },
      "source": [
        "pip install  quantecon"
      ],
      "execution_count": 13,
      "outputs": [
        {
          "output_type": "stream",
          "name": "stdout",
          "text": [
            "Collecting quantecon\n",
            "  Downloading quantecon-0.5.1-py3-none-any.whl (240 kB)\n",
            "\u001b[K     |████████████████████████████████| 240 kB 3.1 MB/s \n",
            "\u001b[?25hRequirement already satisfied: requests in /usr/local/lib/python3.7/dist-packages (from quantecon) (2.23.0)\n",
            "Requirement already satisfied: numba>=0.38 in /usr/local/lib/python3.7/dist-packages (from quantecon) (0.51.2)\n",
            "Requirement already satisfied: numpy in /usr/local/lib/python3.7/dist-packages (from quantecon) (1.19.5)\n",
            "Requirement already satisfied: scipy>=1.0.0 in /usr/local/lib/python3.7/dist-packages (from quantecon) (1.4.1)\n",
            "Requirement already satisfied: sympy in /usr/local/lib/python3.7/dist-packages (from quantecon) (1.7.1)\n",
            "Requirement already satisfied: setuptools in /usr/local/lib/python3.7/dist-packages (from numba>=0.38->quantecon) (57.4.0)\n",
            "Requirement already satisfied: llvmlite<0.35,>=0.34.0.dev0 in /usr/local/lib/python3.7/dist-packages (from numba>=0.38->quantecon) (0.34.0)\n",
            "Requirement already satisfied: urllib3!=1.25.0,!=1.25.1,<1.26,>=1.21.1 in /usr/local/lib/python3.7/dist-packages (from requests->quantecon) (1.24.3)\n",
            "Requirement already satisfied: certifi>=2017.4.17 in /usr/local/lib/python3.7/dist-packages (from requests->quantecon) (2021.5.30)\n",
            "Requirement already satisfied: idna<3,>=2.5 in /usr/local/lib/python3.7/dist-packages (from requests->quantecon) (2.10)\n",
            "Requirement already satisfied: chardet<4,>=3.0.2 in /usr/local/lib/python3.7/dist-packages (from requests->quantecon) (3.0.4)\n",
            "Requirement already satisfied: mpmath>=0.19 in /usr/local/lib/python3.7/dist-packages (from sympy->quantecon) (1.2.1)\n",
            "Installing collected packages: quantecon\n",
            "Successfully installed quantecon-0.5.1\n"
          ]
        }
      ]
    },
    {
      "cell_type": "code",
      "metadata": {
        "id": "jVvmBCxRf3ZB"
      },
      "source": [
        "P = np.zeros((6, 6))\n",
        "P[0, 0] = 1\n",
        "P[1, 4] = 1\n",
        "P[2, [2, 3, 4]] = 1/3\n",
        "P[3, [0, 5]] = 1/2\n",
        "P[4, [1, 4]] = 1/2\n",
        "P[5, [0, 3]] = 1/2"
      ],
      "execution_count": 14,
      "outputs": []
    },
    {
      "cell_type": "code",
      "metadata": {
        "colab": {
          "base_uri": "https://localhost:8080/"
        },
        "id": "9lbApu_Wf_ka",
        "outputId": "3fbf96cc-c47d-414e-979f-0ad49ae13ead"
      },
      "source": [
        "import matplotlib.pyplot as plt\n",
        "from quantecon.markov import MarkovChain\n",
        "mc1 = MarkovChain(P)"
      ],
      "execution_count": 16,
      "outputs": [
        {
          "output_type": "stream",
          "name": "stderr",
          "text": [
            "/usr/local/lib/python3.7/dist-packages/numba/np/ufunc/parallel.py:363: NumbaWarning: The TBB threading layer requires TBB version 2019.5 or later i.e., TBB_INTERFACE_VERSION >= 11005. Found TBB_INTERFACE_VERSION = 9107. The TBB threading layer is disabled.\n",
            "  warnings.warn(problem)\n"
          ]
        }
      ]
    },
    {
      "cell_type": "markdown",
      "metadata": {
        "id": "n_hlB47BgVq2"
      },
      "source": [
        "Classification of states"
      ]
    },
    {
      "cell_type": "code",
      "metadata": {
        "colab": {
          "base_uri": "https://localhost:8080/"
        },
        "id": "t9uJc1WFgQBM",
        "outputId": "03e12142-a6a6-4480-e0d0-008b2bf1055f"
      },
      "source": [
        "mc1.is_irreducible"
      ],
      "execution_count": 18,
      "outputs": [
        {
          "output_type": "execute_result",
          "data": {
            "text/plain": [
              "False"
            ]
          },
          "metadata": {},
          "execution_count": 18
        }
      ]
    },
    {
      "cell_type": "code",
      "metadata": {
        "colab": {
          "base_uri": "https://localhost:8080/"
        },
        "id": "YqeANasVgZx8",
        "outputId": "17182e76-9dc7-4d53-a37f-cd510e1240c4"
      },
      "source": [
        "mc1.num_communication_classes"
      ],
      "execution_count": 19,
      "outputs": [
        {
          "output_type": "execute_result",
          "data": {
            "text/plain": [
              "4"
            ]
          },
          "metadata": {},
          "execution_count": 19
        }
      ]
    },
    {
      "cell_type": "markdown",
      "metadata": {
        "id": "WHzCsvhxggiC"
      },
      "source": [
        "Determine the communication classes:"
      ]
    },
    {
      "cell_type": "code",
      "metadata": {
        "colab": {
          "base_uri": "https://localhost:8080/"
        },
        "id": "JJjpf-9ggkXZ",
        "outputId": "42bf69dd-966d-4f9e-8154-cec39bb6d316"
      },
      "source": [
        "mc1.communication_classes"
      ],
      "execution_count": 20,
      "outputs": [
        {
          "output_type": "execute_result",
          "data": {
            "text/plain": [
              "[array([0]), array([1, 4]), array([3, 5]), array([2])]"
            ]
          },
          "metadata": {},
          "execution_count": 20
        }
      ]
    },
    {
      "cell_type": "markdown",
      "metadata": {
        "id": "6FTRkGCYgpfn"
      },
      "source": [
        "Classify the states of this Markov chain:"
      ]
    },
    {
      "cell_type": "code",
      "metadata": {
        "colab": {
          "base_uri": "https://localhost:8080/"
        },
        "id": "zUTogM-Jgtxk",
        "outputId": "da7eb560-21ff-43ea-e0c0-cf1760e4be2f"
      },
      "source": [
        "mc1.recurrent_classes"
      ],
      "execution_count": 21,
      "outputs": [
        {
          "output_type": "execute_result",
          "data": {
            "text/plain": [
              "[array([0]), array([1, 4])]"
            ]
          },
          "metadata": {},
          "execution_count": 21
        }
      ]
    },
    {
      "cell_type": "markdown",
      "metadata": {
        "id": "5b7NgPEogzuS"
      },
      "source": [
        "Obtain a list of the recurrent states:"
      ]
    },
    {
      "cell_type": "code",
      "metadata": {
        "colab": {
          "base_uri": "https://localhost:8080/"
        },
        "id": "iu9hKMNngt3e",
        "outputId": "18885df4-c316-4d62-9272-babc6663bdd2"
      },
      "source": [
        "recurrent_states = np.concatenate(mc1.recurrent_classes)\n",
        "print(recurrent_states)"
      ],
      "execution_count": 23,
      "outputs": [
        {
          "output_type": "stream",
          "name": "stdout",
          "text": [
            "[0 1 4]\n"
          ]
        }
      ]
    },
    {
      "cell_type": "markdown",
      "metadata": {
        "id": "GJx0hm4mg7EI"
      },
      "source": [
        "Obtain a list of the transient states:"
      ]
    },
    {
      "cell_type": "code",
      "metadata": {
        "colab": {
          "base_uri": "https://localhost:8080/"
        },
        "id": "2qw0zkIbgt-a",
        "outputId": "0b990185-c251-4179-9b1f-fd26a8813b5a"
      },
      "source": [
        "transient_states = np.setdiff1d(np.arange(mc1.n), recurrent_states)\n",
        "print(transient_states)"
      ],
      "execution_count": 24,
      "outputs": [
        {
          "output_type": "stream",
          "name": "stdout",
          "text": [
            "[2 3 5]\n"
          ]
        }
      ]
    },
    {
      "cell_type": "markdown",
      "metadata": {
        "id": "rAeKYIqIhEOQ"
      },
      "source": [
        "A Markov chain is reducible (i.e., its directed graph is not strongly connected) if and only if by symmetric permulations of rows and columns, its transition probability matrix is written in the form (\"canonical form\")\n",
        "\n",
        "(UW0V),\n",
        "(\n",
        "U\t0\tW\tV \n",
        ")\n",
        ",\n",
        "where U and W are square matrices.\n",
        "\n",
        "Such a form for mc1 is obtained by the following"
      ]
    },
    {
      "cell_type": "code",
      "metadata": {
        "colab": {
          "base_uri": "https://localhost:8080/"
        },
        "id": "qtHGRLl_guDC",
        "outputId": "e4d957bf-ca61-45b0-aa7a-f224380556a9"
      },
      "source": [
        "permutation = np.concatenate([recurrent_states, transient_states])\n",
        "print(mc1.P[np.ix_(permutation, permutation)])"
      ],
      "execution_count": 25,
      "outputs": [
        {
          "output_type": "stream",
          "name": "stdout",
          "text": [
            "[[1.         0.         0.         0.         0.         0.        ]\n",
            " [0.         0.         1.         0.         0.         0.        ]\n",
            " [0.         0.5        0.5        0.         0.         0.        ]\n",
            " [0.         0.         0.33333333 0.33333333 0.33333333 0.        ]\n",
            " [0.5        0.         0.         0.         0.         0.5       ]\n",
            " [0.5        0.         0.         0.         0.5        0.        ]]\n"
          ]
        }
      ]
    },
    {
      "cell_type": "markdown",
      "metadata": {
        "id": "Zkff2qmXhN3U"
      },
      "source": [
        "This Markov chain is aperiodic (i.e., the least common multiple of the periods of the recurrent sub-chains is one):"
      ]
    },
    {
      "cell_type": "code",
      "metadata": {
        "colab": {
          "base_uri": "https://localhost:8080/"
        },
        "id": "lFOYeDx2guMy",
        "outputId": "a423e716-f00d-4d78-cc4c-085abe5af148"
      },
      "source": [
        "mc1.is_aperiodic"
      ],
      "execution_count": 26,
      "outputs": [
        {
          "output_type": "execute_result",
          "data": {
            "text/plain": [
              "True"
            ]
          },
          "metadata": {},
          "execution_count": 26
        }
      ]
    },
    {
      "cell_type": "markdown",
      "metadata": {
        "id": "ezvWZMUNhVXG"
      },
      "source": [
        "Indeed, each of the sub-chains corresponding to the recurrent classes has period 1, i.e., every recurrent state is aperiodic:"
      ]
    },
    {
      "cell_type": "code",
      "metadata": {
        "colab": {
          "base_uri": "https://localhost:8080/"
        },
        "id": "5cZ6XoEYguVm",
        "outputId": "314efc70-77be-4fd8-b439-1f3ec568ff0f"
      },
      "source": [
        "for recurrent_class in mc1.recurrent_classes:\n",
        "    sub_matrix = P[np.ix_(recurrent_class, recurrent_class)]\n",
        "    d = MarkovChain(sub_matrix).period\n",
        "    print('Period of the sub-chain\\n{0}\\n = {1}'.format(sub_matrix, d))"
      ],
      "execution_count": 27,
      "outputs": [
        {
          "output_type": "stream",
          "name": "stdout",
          "text": [
            "Period of the sub-chain\n",
            "[[1.]]\n",
            " = 1\n",
            "Period of the sub-chain\n",
            "[[0.  1. ]\n",
            " [0.5 0.5]]\n",
            " = 1\n"
          ]
        }
      ]
    },
    {
      "cell_type": "markdown",
      "metadata": {
        "id": "tHp65GqrhemB"
      },
      "source": [
        "Stationary distributions\n",
        "\n",
        "For each recurrent class C, there is a unique stationary distribution ψC such that ψ\n",
        "C\n",
        "i\n",
        ">0 for all i∈C and ψ\n",
        "C\n",
        "i\n",
        "=0 otherwise. MarkovChain.stationary_distributions returns these unique stationary distributions for the recurrent classes. Any stationary distribution is written as a convex combination of these distribution"
      ]
    },
    {
      "cell_type": "code",
      "metadata": {
        "colab": {
          "base_uri": "https://localhost:8080/"
        },
        "id": "MirONgzEhjgK",
        "outputId": "e2e5bd64-bff4-43f4-b086-5a1f760f9b80"
      },
      "source": [
        "print(mc1.stationary_distributions)"
      ],
      "execution_count": 28,
      "outputs": [
        {
          "output_type": "stream",
          "name": "stdout",
          "text": [
            "[[1.         0.         0.         0.         0.         0.        ]\n",
            " [0.         0.33333333 0.         0.         0.66666667 0.        ]]\n"
          ]
        }
      ]
    },
    {
      "cell_type": "markdown",
      "metadata": {
        "id": "t1OUKHLjhu2z"
      },
      "source": [
        "Plot these distributions."
      ]
    },
    {
      "cell_type": "code",
      "metadata": {
        "id": "8G9HqYYohqUv"
      },
      "source": [
        "def draw_histogram(distribution, ax=None, figsize=None,\n",
        "                   title=None, xlabel=None, ylabel=None, ylim=(0, 1)):\n",
        "    \"\"\"\n",
        "    Plot the given distribution.\n",
        "    \n",
        "    \"\"\"\n",
        "    if ax is None:\n",
        "        fig, ax = plt.subplots(figsize=figsize)\n",
        "    n = len(distribution)\n",
        "    ax.bar(np.arange(n), distribution, align='center')\n",
        "    ax.set_xlim(-0.5, (n-1)+0.5)\n",
        "    ax.set_ylim(*ylim)\n",
        "    ax.set_xticks(range(n))\n",
        "    if title:\n",
        "        ax.set_title(title)\n",
        "    if xlabel:\n",
        "        ax.set_xlabel(xlabel)\n",
        "    if ylabel:\n",
        "        ax.set_ylabel(ylabel)\n",
        "    if ax is None:\n",
        "        plt.show()"
      ],
      "execution_count": 29,
      "outputs": []
    },
    {
      "cell_type": "code",
      "metadata": {
        "colab": {
          "base_uri": "https://localhost:8080/",
          "height": 328
        },
        "id": "7jKpgs2qh1j6",
        "outputId": "1fdb30c5-00c7-41d5-baad-2431d9ba8222"
      },
      "source": [
        "fig, axes = plt.subplots(1, 2, figsize=(12, 4))\n",
        "titles = ['Stationary distribution for the recurrent class {0}'.format(recurrent_class)\n",
        "          for recurrent_class in mc1.recurrent_classes]\n",
        "\n",
        "for ax, title, dist in zip(axes, titles, mc1.stationary_distributions):\n",
        "    draw_histogram(dist, ax=ax, title=title, xlabel='States')\n",
        "\n",
        "fig.suptitle('Stationary distributions', y=-0.05, fontsize=12)\n",
        "plt.show()"
      ],
      "execution_count": 30,
      "outputs": [
        {
          "output_type": "display_data",
          "data": {
            "image/png": "[encoded data removed]",
            "text/plain": [
              "<Figure size 864x288 with 2 Axes>"
            ]
          },
          "metadata": {
            "needs_background": "light"
          }
        }
      ]
    },
    {
      "cell_type": "markdown",
      "metadata": {
        "id": "OthtJfrRh5dJ"
      },
      "source": [
        "Simulation\n",
        "\n",
        "Let us simulate our Markov chain mc1. The simualte method generates a sample path of length given by the first argument, ts_length, with an initial state as specified by an optional argument init; if not specified, the initial state is randomly drawn\n",
        "\n",
        "A sample path from state 0:"
      ]
    },
    {
      "cell_type": "code",
      "metadata": {
        "colab": {
          "base_uri": "https://localhost:8080/"
        },
        "id": "7lJN3IaaiBvy",
        "outputId": "b6c846bc-ffe7-4937-be7d-922ab11931fd"
      },
      "source": [
        "mc1.simulate(50, init=0)"
      ],
      "execution_count": 31,
      "outputs": [
        {
          "output_type": "execute_result",
          "data": {
            "text/plain": [
              "array([0, 0, 0, 0, 0, 0, 0, 0, 0, 0, 0, 0, 0, 0, 0, 0, 0, 0, 0, 0, 0, 0,\n",
              "       0, 0, 0, 0, 0, 0, 0, 0, 0, 0, 0, 0, 0, 0, 0, 0, 0, 0, 0, 0, 0, 0,\n",
              "       0, 0, 0, 0, 0, 0])"
            ]
          },
          "metadata": {},
          "execution_count": 31
        }
      ]
    },
    {
      "cell_type": "markdown",
      "metadata": {
        "id": "fcZxmb-6gKM-"
      },
      "source": [
        "As is clear from the transition matrix P, if it starts at state 0, the chain stays there forever, i.e., 0 is an absorbing state, a state that constitutes a singleton recurrent class.\n",
        "\n",
        "Start with state 1:"
      ]
    },
    {
      "cell_type": "code",
      "metadata": {
        "colab": {
          "base_uri": "https://localhost:8080/"
        },
        "id": "uoE_w6fUiNJD",
        "outputId": "6bf08214-f775-4f3c-b99f-82850e700c62"
      },
      "source": [
        "mc1.simulate(50, init=1)"
      ],
      "execution_count": 32,
      "outputs": [
        {
          "output_type": "execute_result",
          "data": {
            "text/plain": [
              "array([1, 4, 4, 1, 4, 1, 4, 4, 1, 4, 1, 4, 4, 4, 4, 4, 4, 1, 4, 1, 4, 1,\n",
              "       4, 4, 1, 4, 1, 4, 1, 4, 4, 1, 4, 1, 4, 1, 4, 1, 4, 1, 4, 1, 4, 1,\n",
              "       4, 1, 4, 4, 1, 4])"
            ]
          },
          "metadata": {},
          "execution_count": 32
        }
      ]
    },
    {
      "cell_type": "markdown",
      "metadata": {
        "id": "bqIiuaJWiVRW"
      },
      "source": [
        "You can observe that the chain stays in the recurrent class {1,4} and visits states 1 and 4 with certain frequencies\n",
        "\n",
        "\n",
        "If init is not specified, the initial state is randomly chosen:"
      ]
    },
    {
      "cell_type": "code",
      "metadata": {
        "colab": {
          "base_uri": "https://localhost:8080/"
        },
        "id": "1P546v8_iT2J",
        "outputId": "3887d4d7-911f-4a61-dca5-5d29a00a286c"
      },
      "source": [
        "mc1.simulate(50)"
      ],
      "execution_count": 33,
      "outputs": [
        {
          "output_type": "execute_result",
          "data": {
            "text/plain": [
              "array([0, 0, 0, 0, 0, 0, 0, 0, 0, 0, 0, 0, 0, 0, 0, 0, 0, 0, 0, 0, 0, 0,\n",
              "       0, 0, 0, 0, 0, 0, 0, 0, 0, 0, 0, 0, 0, 0, 0, 0, 0, 0, 0, 0, 0, 0,\n",
              "       0, 0, 0, 0, 0, 0])"
            ]
          },
          "metadata": {},
          "execution_count": 33
        }
      ]
    },
    {
      "cell_type": "markdown",
      "metadata": {
        "id": "-4iO3XDoikQv"
      },
      "source": [
        "Note on reproducibility: The simulate method offers an option random_state to set a random seed to initialize the pseudo-random number generator. As you provide the same random seed value, simulate returns the same outcome.\n",
        "\n",
        "For example, the following will always give the same sequence:"
      ]
    },
    {
      "cell_type": "code",
      "metadata": {
        "colab": {
          "base_uri": "https://localhost:8080/"
        },
        "id": "lHCiPI9ligSg",
        "outputId": "a83e1134-8ddc-4d28-f223-10e4b32b2ec4"
      },
      "source": [
        "mc1.simulate(50, random_state=12345)"
      ],
      "execution_count": 34,
      "outputs": [
        {
          "output_type": "execute_result",
          "data": {
            "text/plain": [
              "array([2, 4, 1, 4, 4, 4, 4, 1, 4, 1, 4, 4, 1, 4, 1, 4, 4, 4, 4, 4, 1, 4,\n",
              "       4, 1, 4, 1, 4, 1, 4, 4, 1, 4, 4, 4, 4, 4, 4, 4, 4, 4, 1, 4, 1, 4,\n",
              "       1, 4, 4, 4, 4, 4])"
            ]
          },
          "metadata": {},
          "execution_count": 34
        }
      ]
    },
    {
      "cell_type": "markdown",
      "metadata": {
        "id": "VB4HYSb4iwJ6"
      },
      "source": [
        "Time series averages\n",
        "\n",
        "Now, let us compute the frequency distribution along a sample path, given by\n",
        "\n",
        "1\n",
        "t\n",
        " \n",
        "t−1\n",
        "∑\n",
        "τ=0 1{Xτ=s}(s∈S)"
      ]
    },
    {
      "cell_type": "code",
      "metadata": {
        "id": "gPDx4apaisUv"
      },
      "source": [
        "def time_series_dist(mc, t, init=None, random_state=None):\n",
        "    \"\"\"\n",
        "    Return the distribution of visits by a sample path of length t\n",
        "    of mc with an initial state init.\n",
        "    \n",
        "    \"\"\"\n",
        "    t_max = np.max(t)\n",
        "    dim = 1\n",
        "    try:\n",
        "        ts_size = len(t)  # t is an array\n",
        "        ts_array = t\n",
        "        dim = 2\n",
        "    except:  # t is an int\n",
        "        ts_size = 1\n",
        "        ts_array = [t]\n",
        "        \n",
        "    X = mc.simulate(ts_length=t_max, init=init, random_state=random_state)\n",
        "    dists = np.empty((ts_size, mc.n))\n",
        "    bins = np.arange(mc.n+1)\n",
        "    for i, length in enumerate(ts_array):\n",
        "        hist, bin_edges = np.histogram(X[:length], bins=bins)\n",
        "        dists[i, :] = hist / length\n",
        "    if dim == 1:\n",
        "        return dists[0]\n",
        "    else:\n",
        "        return dists"
      ],
      "execution_count": 35,
      "outputs": []
    },
    {
      "cell_type": "markdown",
      "metadata": {
        "id": "Mw3HYqO6jCLd"
      },
      "source": [
        "Here is a frequency distribution along a sample path, of length 100, from initial state 1, which is a recurrent state:"
      ]
    },
    {
      "cell_type": "code",
      "metadata": {
        "colab": {
          "base_uri": "https://localhost:8080/"
        },
        "id": "QGbwyldMjF69",
        "outputId": "dfeaee99-9cc2-4f0f-abb4-dbc0ee84bccf"
      },
      "source": [
        "time_series_dist(mc1, t=100, init=1)"
      ],
      "execution_count": 36,
      "outputs": [
        {
          "output_type": "execute_result",
          "data": {
            "text/plain": [
              "array([0.  , 0.35, 0.  , 0.  , 0.65, 0.  ])"
            ]
          },
          "metadata": {},
          "execution_count": 36
        }
      ]
    },
    {
      "cell_type": "markdown",
      "metadata": {
        "id": "jFYBgtkUjKrB"
      },
      "source": [
        "Length 10,000:"
      ]
    },
    {
      "cell_type": "code",
      "metadata": {
        "colab": {
          "base_uri": "https://localhost:8080/"
        },
        "id": "SM5VUd2djMWR",
        "outputId": "ccc0994a-a18f-40b3-bc9b-45ce4c2d5b75"
      },
      "source": [
        "time_series_dist(mc1, t=10**4, init=1)"
      ],
      "execution_count": 37,
      "outputs": [
        {
          "output_type": "execute_result",
          "data": {
            "text/plain": [
              "array([0.    , 0.3324, 0.    , 0.    , 0.6676, 0.    ])"
            ]
          },
          "metadata": {},
          "execution_count": 37
        }
      ]
    },
    {
      "cell_type": "markdown",
      "metadata": {
        "id": "_GQ8uUdejSP_"
      },
      "source": [
        "The distribution becomes close to the stationary distribution (0, 1/3, 0, 0, 2/3, 0)\n",
        "\n",
        "Plot the frequency distributions for a couple of different time lengths:"
      ]
    },
    {
      "cell_type": "code",
      "metadata": {
        "id": "jFt6uCzxjMeL"
      },
      "source": [
        "def plot_time_series_dists(mc, init, ts, seed=None, figsize=(12,4)):\n",
        "    dists = time_series_dist(mc, t=ts, init=init, random_state=seed)\n",
        "\n",
        "    fig, axes = plt.subplots(1, len(ts), figsize=figsize)\n",
        "    titles = ['t={0}'.format(t) for t in ts]\n",
        "\n",
        "    for ax, title, dist in zip(axes, titles, dists):\n",
        "        draw_histogram(dist, ax=ax, title=title, xlabel='States')\n",
        "\n",
        "    fig.suptitle('Time series distributions with init={0}'.format(init),\n",
        "                 y=-0.05, fontsize=12)\n",
        "    plt.show()"
      ],
      "execution_count": 38,
      "outputs": []
    },
    {
      "cell_type": "code",
      "metadata": {
        "colab": {
          "base_uri": "https://localhost:8080/",
          "height": 328
        },
        "id": "YXJlK2-TjMjL",
        "outputId": "6125c74a-d38a-4409-c96f-afb0e7728323"
      },
      "source": [
        "init = 1\n",
        "ts = [5, 10, 50, 100]\n",
        "plot_time_series_dists(mc1, init, ts)"
      ],
      "execution_count": 39,
      "outputs": [
        {
          "output_type": "display_data",
          "data": {
            "image/png": "[encoded data removed]",
            "text/plain": [
              "<Figure size 864x288 with 4 Axes>"
            ]
          },
          "metadata": {
            "needs_background": "light"
          }
        }
      ]
    },
    {
      "cell_type": "markdown",
      "metadata": {
        "id": "zDeSQ-gVjoSr"
      },
      "source": [
        "Start with state 2, which is a transient state:"
      ]
    },
    {
      "cell_type": "code",
      "metadata": {
        "colab": {
          "base_uri": "https://localhost:8080/",
          "height": 328
        },
        "id": "t7Wm_LlFjMtT",
        "outputId": "fcfe88c4-c719-4154-bae1-11e6047168b1"
      },
      "source": [
        "init = 2\n",
        "ts = [5, 10, 50, 100]\n",
        "plot_time_series_dists(mc1, init, ts)"
      ],
      "execution_count": 40,
      "outputs": [
        {
          "output_type": "display_data",
          "data": {
            "image/png": "[encoded data removed]",
            "text/plain": [
              "<Figure size 864x288 with 4 Axes>"
            ]
          },
          "metadata": {
            "needs_background": "light"
          }
        }
      ]
    },
    {
      "cell_type": "markdown",
      "metadata": {
        "id": "SCvfPmmHjuR6"
      },
      "source": [
        "Run the above cell several times; you will observe that the limit distribution differs across sample paths. Sometimes the state is absorbed into the recurrent class {0}, while other times it is absorbed into the recurrent class {1,4}."
      ]
    },
    {
      "cell_type": "code",
      "metadata": {
        "colab": {
          "base_uri": "https://localhost:8080/",
          "height": 673
        },
        "id": "NO398e6ujyRe",
        "outputId": "825dd493-c69f-42ca-c037-8b443058fc86"
      },
      "source": [
        "init = 2\n",
        "ts = [5, 10, 50, 100]\n",
        "seeds = [222, 2222]\n",
        "descriptions = ['{0} sample path with init={1}'.format(adjective, init) for adjective\n",
        "                in ['Some'] + ['Another'] + ['Yet another']*(len(seeds)-1)]\n",
        "\n",
        "for seed, description in zip(seeds, descriptions):\n",
        "    print(description)\n",
        "    plot_time_series_dists(mc1, init, ts, seed=seed)"
      ],
      "execution_count": 41,
      "outputs": [
        {
          "output_type": "stream",
          "name": "stdout",
          "text": [
            "Some sample path with init=2\n"
          ]
        },
        {
          "output_type": "display_data",
          "data": {
            "image/png": "[encoded data removed]",
            "text/plain": [
              "<Figure size 864x288 with 4 Axes>"
            ]
          },
          "metadata": {
            "needs_background": "light"
          }
        },
        {
          "output_type": "stream",
          "name": "stdout",
          "text": [
            "Another sample path with init=2\n"
          ]
        },
        {
          "output_type": "display_data",
          "data": {
            "image/png": "[encoded data removed]",
            "text/plain": [
              "<Figure size 864x288 with 4 Axes>"
            ]
          },
          "metadata": {
            "needs_background": "light"
          }
        }
      ]
    },
    {
      "cell_type": "markdown",
      "metadata": {
        "id": "1t-Jik0kj_8n"
      },
      "source": [
        "In fact, for almost every sample path of a finite Markov chain {Xt}, for some recurrent class C we have\n",
        "\n",
        "1\n",
        "t\n",
        " \n",
        "t−1\n",
        "∑\n",
        "τ=0 1{Xτ=s}→ψC[s]as t→∞\n",
        "for all states s, where ψC is the stationary distribution associated with the recurrent class C.\n",
        "\n",
        "If the initial state s0 is a recurrent state, then the recurrent class C above is the one that contains s0, while if it is a transient state, then the recurrent class to which the convergence occurs depends on the sample path.\n",
        "\n",
        "Let us simulate with the remaining states, 3, 4, and 5."
      ]
    },
    {
      "cell_type": "code",
      "metadata": {
        "colab": {
          "base_uri": "https://localhost:8080/",
          "height": 261
        },
        "id": "4OeaAtGDj7yb",
        "outputId": "348da91c-7002-4a0a-d5dc-d0c6b45c74c3"
      },
      "source": [
        "inits = [3, 4, 5]\n",
        "t = 100\n",
        "\n",
        "fig, axes = plt.subplots(1, 3, figsize=(12, 3))\n",
        "\n",
        "for init, ax in zip(inits, axes):\n",
        "    draw_histogram(time_series_dist(mc1, t=t, init=init), ax=ax,\n",
        "                   title='Initial state = {0}'.format(init),\n",
        "                   xlabel='States')\n",
        "\n",
        "fig.suptitle('Time series distributions for t={0}'.format(t),\n",
        "             y=-0.05, fontsize=12)\n",
        "plt.show()"
      ],
      "execution_count": 42,
      "outputs": [
        {
          "output_type": "display_data",
          "data": {
            "image/png": "[encoded data removed]",
            "text/plain": [
              "<Figure size 864x216 with 3 Axes>"
            ]
          },
          "metadata": {
            "needs_background": "light"
          }
        }
      ]
    },
    {
      "cell_type": "markdown",
      "metadata": {
        "id": "GunmUcxwkqhv"
      },
      "source": [
        "Powers of P\n",
        "\n",
        "The marginal distributions at time T are obtained by PT."
      ]
    },
    {
      "cell_type": "code",
      "metadata": {
        "id": "4lCDiHHEkjl7"
      },
      "source": [
        "np.set_printoptions(suppress=True)  # Suppress printing with floating point notation"
      ],
      "execution_count": 43,
      "outputs": []
    },
    {
      "cell_type": "code",
      "metadata": {
        "colab": {
          "base_uri": "https://localhost:8080/"
        },
        "id": "WAREC-yskx3q",
        "outputId": "322835d3-9afd-459b-a254-95ddca23dace"
      },
      "source": [
        "Ts = [10, 20, 30]\n",
        "for T in Ts:\n",
        "    print('P^{T} =\\n{P_T}'.format(T=T, P_T=np.linalg.matrix_power(mc1.P, T)))"
      ],
      "execution_count": 44,
      "outputs": [
        {
          "output_type": "stream",
          "name": "stdout",
          "text": [
            "P^10 =\n",
            "[[1.         0.         0.         0.         0.         0.        ]\n",
            " [0.         0.33398438 0.         0.         0.66601562 0.        ]\n",
            " [0.49807228 0.16679179 0.00001694 0.0007677  0.33319974 0.00115155]\n",
            " [0.99902344 0.         0.         0.00097656 0.         0.        ]\n",
            " [0.         0.33300781 0.         0.         0.66699219 0.        ]\n",
            " [0.99902344 0.         0.         0.         0.         0.00097656]]\n",
            "P^20 =\n",
            "[[1.         0.         0.         0.         0.         0.        ]\n",
            " [0.         0.33333397 0.         0.         0.66666603 0.        ]\n",
            " [0.49999809 0.16666679 0.         0.00000076 0.33333321 0.00000114]\n",
            " [0.99999905 0.         0.         0.00000095 0.         0.        ]\n",
            " [0.         0.33333302 0.         0.         0.66666698 0.        ]\n",
            " [0.99999905 0.         0.         0.         0.         0.00000095]]\n",
            "P^30 =\n",
            "[[1.         0.         0.         0.         0.         0.        ]\n",
            " [0.         0.33333333 0.         0.         0.66666667 0.        ]\n",
            " [0.5        0.16666667 0.         0.         0.33333333 0.        ]\n",
            " [1.         0.         0.         0.         0.         0.        ]\n",
            " [0.         0.33333333 0.         0.         0.66666667 0.        ]\n",
            " [1.         0.         0.         0.         0.         0.        ]]\n"
          ]
        }
      ]
    },
    {
      "cell_type": "code",
      "metadata": {
        "colab": {
          "base_uri": "https://localhost:8080/"
        },
        "id": "31A7qYU0k2Rz",
        "outputId": "8cce1223-8aa6-45cc-a01b-4137e51a1441"
      },
      "source": [
        "Q = mc1.P[np.ix_(permutation, permutation)]\n",
        "print('Q =\\n{Q}'.format(Q=Q))\n",
        "for T in Ts:\n",
        "    print('Q^{T} =\\n{Q_T}'.format(T=T, Q_T=np.linalg.matrix_power(Q, T)))"
      ],
      "execution_count": 45,
      "outputs": [
        {
          "output_type": "stream",
          "name": "stdout",
          "text": [
            "Q =\n",
            "[[1.         0.         0.         0.         0.         0.        ]\n",
            " [0.         0.         1.         0.         0.         0.        ]\n",
            " [0.         0.5        0.5        0.         0.         0.        ]\n",
            " [0.         0.         0.33333333 0.33333333 0.33333333 0.        ]\n",
            " [0.5        0.         0.         0.         0.         0.5       ]\n",
            " [0.5        0.         0.         0.         0.5        0.        ]]\n",
            "Q^10 =\n",
            "[[1.         0.         0.         0.         0.         0.        ]\n",
            " [0.         0.33398438 0.66601562 0.         0.         0.        ]\n",
            " [0.         0.33300781 0.66699219 0.         0.         0.        ]\n",
            " [0.49807228 0.16679179 0.33319974 0.00001694 0.0007677  0.00115155]\n",
            " [0.99902344 0.         0.         0.         0.00097656 0.        ]\n",
            " [0.99902344 0.         0.         0.         0.         0.00097656]]\n",
            "Q^20 =\n",
            "[[1.         0.         0.         0.         0.         0.        ]\n",
            " [0.         0.33333397 0.66666603 0.         0.         0.        ]\n",
            " [0.         0.33333302 0.66666698 0.         0.         0.        ]\n",
            " [0.49999809 0.16666679 0.33333321 0.         0.00000076 0.00000114]\n",
            " [0.99999905 0.         0.         0.         0.00000095 0.        ]\n",
            " [0.99999905 0.         0.         0.         0.         0.00000095]]\n",
            "Q^30 =\n",
            "[[1.         0.         0.         0.         0.         0.        ]\n",
            " [0.         0.33333333 0.66666667 0.         0.         0.        ]\n",
            " [0.         0.33333333 0.66666667 0.         0.         0.        ]\n",
            " [0.5        0.16666667 0.33333333 0.         0.         0.        ]\n",
            " [1.         0.         0.         0.         0.         0.        ]\n",
            " [1.         0.         0.         0.         0.         0.        ]]\n"
          ]
        }
      ]
    },
    {
      "cell_type": "markdown",
      "metadata": {
        "id": "lHEeYst8dEYc"
      },
      "source": [
        "Alternate Approach"
      ]
    },
    {
      "cell_type": "markdown",
      "metadata": {
        "id": "8clZ0uk7k6il"
      },
      "source": [
        ""
      ]
    },
    {
      "cell_type": "code",
      "metadata": {
        "colab": {
          "base_uri": "https://localhost:8080/",
          "height": 232
        },
        "id": "xS6mlzEMcUlt",
        "outputId": "782aaec6-7ff6-48a9-cb09-1daa6ee3d8da"
      },
      "source": [
        "import numpy as np\n",
        "import pandas as pd\n",
        "from random import seed\n",
        "from random import random\n",
        "import matplotlib.pyplot as plt\n",
        "\n",
        "\n",
        "\n",
        "\n",
        "P = np.array([[0.2, 0.7, 0.1],\n",
        "\n",
        "              [0.9, 0.0, 0.1],\n",
        "\n",
        "              [0.2, 0.8, 0.0]])\n",
        "\n",
        "\n",
        "\n",
        "\n",
        "stateChangeHist= np.array([[0.0,  0.0,  0.0],\n",
        "\n",
        "                            [0.0, 0.0,  0.0],\n",
        "\n",
        "                            [0.0, 0.0,  0.0]])\n",
        "\n",
        "\n",
        "\n",
        "\n",
        "state=np.array([[1.0, 0.0, 0.0]])\n",
        "currentState=0\n",
        "stateHist=state\n",
        "dfStateHist=pd.DataFrame(state)\n",
        "distr_hist = [[0,0,0]]\n",
        "\n",
        "\n",
        "seed(4)\n",
        "\n",
        "\n",
        "\n",
        "\n",
        "# Simulate from multinomial distribution\n",
        "\n",
        "def simulate_multinomial(vmultinomial, nextState):\n",
        "\n",
        "    r=np.random.uniform(0.0, 1.0)\n",
        "\n",
        "    CS=np.cumsum(vmultinomial)\n",
        "\n",
        "    CS=np.insert(CS,0,0)\n",
        "\n",
        "    m=(np.where(CS<r))[0]\n",
        "\n",
        "    nextState=m[len(m)-1]\n",
        "\n",
        "    return nextState\n",
        "\n",
        "\n",
        "\n",
        "\n",
        "for x in range(1000):\n",
        "\n",
        "\n",
        "    currentRow=np.ma.masked_values((P[currentState]), 0.0)\n",
        "\n",
        "  \n",
        "    nextState=simulate_multinomial(currentRow)\n",
        "\n",
        "    # Keep track of state changes\n",
        "\n",
        "    stateChangeHist[currentState,nextState]+=1\n",
        "\n",
        "    # Keep track of the state vector itself\n",
        "\n",
        "    state=np.array([[0,0,0]])\n",
        "\n",
        "    state[0,nextState]=1.0\n",
        "\n",
        "    # Keep track of state history\n",
        "\n",
        "    stateHist=np.append(stateHist,state,axis=0)\n",
        "\n",
        "\n",
        "    currentState=nextState\n",
        "\n",
        "\n",
        "    # calculate the actual distribution over the 3 states so far\n",
        "\n",
        "\n",
        "    totals=np.sum(stateHist,axis=0)\n",
        "\n",
        "    gt=np.sum(totals)\n",
        "\n",
        "    distrib=totals/gt\n",
        "\n",
        "    distrib=np.reshape(distrib,(1,3))\n",
        "\n",
        "    distr_hist=np.append(distr_hist,distrib,axis=0)\n",
        "\n",
        "print(distrib)\n",
        "\n",
        "\n",
        "\n",
        "\n",
        "P_hat=stateChangeHist/stateChangeHist.sum(axis=1)[:,None]\n",
        "\n",
        "# Check estimated state transition probabilities based on history so far:\n",
        "\n",
        "print(P_hat)\n",
        "\n",
        "\n",
        "\n",
        "\n",
        "dfDistrHist = pd.DataFrame(distr_hist)\n",
        "\n",
        "# Plot the distribution as the simulation progresses over time\n",
        "\n",
        "dfDistrHist.plot(title=\"Simulation History\")\n",
        "\n",
        "plt.show()"
      ],
      "execution_count": 10,
      "outputs": [
        {
          "output_type": "error",
          "ename": "TypeError",
          "evalue": "ignored",
          "traceback": [
            "\u001b[0;31m---------------------------------------------------------------------------\u001b[0m",
            "\u001b[0;31mTypeError\u001b[0m                                 Traceback (most recent call last)",
            "\u001b[0;32m<ipython-input-10-3c982cea2348>\u001b[0m in \u001b[0;36m<module>\u001b[0;34m()\u001b[0m\n\u001b[1;32m     74\u001b[0m \u001b[0;34m\u001b[0m\u001b[0m\n\u001b[1;32m     75\u001b[0m \u001b[0;34m\u001b[0m\u001b[0m\n\u001b[0;32m---> 76\u001b[0;31m     \u001b[0mnextState\u001b[0m\u001b[0;34m=\u001b[0m\u001b[0msimulate_multinomial\u001b[0m\u001b[0;34m(\u001b[0m\u001b[0mcurrentRow\u001b[0m\u001b[0;34m)\u001b[0m\u001b[0;34m\u001b[0m\u001b[0;34m\u001b[0m\u001b[0m\n\u001b[0m\u001b[1;32m     77\u001b[0m \u001b[0;34m\u001b[0m\u001b[0m\n\u001b[1;32m     78\u001b[0m     \u001b[0;31m# Keep track of state changes\u001b[0m\u001b[0;34m\u001b[0m\u001b[0;34m\u001b[0m\u001b[0;34m\u001b[0m\u001b[0m\n",
            "\u001b[0;31mTypeError\u001b[0m: simulate_multinomial() missing 1 required positional argument: 'nextState'"
          ]
        }
      ]
    },
    {
      "cell_type": "code",
      "metadata": {
        "id": "ZBtEbhXSdIej"
      },
      "source": [
        ""
      ],
      "execution_count": null,
      "outputs": []
    }
  ]
}